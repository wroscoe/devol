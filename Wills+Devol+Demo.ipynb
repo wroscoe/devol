{
 "cells": [
  {
   "cell_type": "code",
   "execution_count": null,
   "metadata": {
    "collapsed": false
   },
   "outputs": [
    {
     "name": "stderr",
     "output_type": "stream",
     "text": [
      "\n",
      "Generations:   0%|          | 0/20 [00:00<?, ?it/s]\u001b[A\n",
      "\n",
      "Gen 1 Models Fitness Eval:   0%|          | 0/6 [00:00<?, ?it/s]"
     ]
    },
    {
     "name": "stdout",
     "output_type": "stream",
     "text": [
      "Genome encoding and accuracy data stored at Sun May 28 09:23:41 2017.csv \n",
      "\n"
     ]
    },
    {
     "name": "stderr",
     "output_type": "stream",
     "text": [
      "\u001b[A\u001b[A"
     ]
    }
   ],
   "source": [
    "from keras.datasets import mnist\n",
    "from keras.utils.np_utils import to_categorical\n",
    "from devol import DEvol\n",
    "from genome_handler import GenomeHandler\n",
    "import numpy as np\n",
    "\n",
    "# **Prepare dataset**\n",
    "# This problem uses mnist, a handwritten digit classification problem used \n",
    "# for many introductory deep learning examples. Here, we load the data and \n",
    "# prepare it for use by the GPU. We also do a one-hot encoding of the labels.\n",
    "\n",
    "(x_train, y_train), (x_test, y_test) = mnist.load_data()\n",
    "x_train = x_train.reshape(x_train.shape[0], 1, 28, 28).astype('float32') / 255\n",
    "x_test = x_test.reshape(x_test.shape[0], 1, 28, 28).astype('float32') / 255\n",
    "y_train = to_categorical(y_train)\n",
    "y_test = to_categorical(y_test)\n",
    "dataset = ((x_train, y_train), (x_test, y_test))\n",
    "\n",
    "# **Prepare the genome configuration**\n",
    "# The `GenomeHandler` class handles the constraints that are imposed upon \n",
    "# models in a particular genetic program. See `genome-handler.py` \n",
    "# for more information.\n",
    "\n",
    "max_conv_layers = 6\n",
    "max_dense_layers = 2 # including final softmax layer\n",
    "max_conv_kernals = 256\n",
    "max_dense_nodes = 1024\n",
    "input_shape = x_train.shape[1:]\n",
    "num_classes = 10\n",
    "\n",
    "genome_handler = GenomeHandler(max_conv_layers, max_dense_layers, max_conv_kernals, \\\n",
    "                    max_dense_nodes, input_shape, num_classes)\n",
    "\n",
    "# **Create and run the genetic program**\n",
    "# The next, and final, step is create a `DEvol` and run it. Here we specify \n",
    "# a few settings pertaining to the genetic program. The program \n",
    "# will save each genome's encoding, as well as the model's loss and \n",
    "# accuracy, in a `.csv` file printed at the beginning of program.\n",
    "\n",
    "num_generations = 20\n",
    "population_size = 6\n",
    "num_epochs = 10\n",
    "\n",
    "devol = DEvol(genome_handler)\n",
    "devol.run(dataset, num_generations, population_size, num_epochs)"
   ]
  },
  {
   "cell_type": "code",
   "execution_count": 2,
   "metadata": {
    "collapsed": true
   },
   "outputs": [],
   "source": [
    "import csv"
   ]
  },
  {
   "cell_type": "code",
   "execution_count": 41,
   "metadata": {
    "collapsed": true
   },
   "outputs": [],
   "source": [
    "f = open('Sun May 28 08:14:17 2017.csv')\n",
    "\n",
    "genomes = f.read().split('\\n')\n",
    "\n",
    "last = genomes[-3]\n",
    "\n",
    "last = last.split(',')\n",
    "\n",
    "last = [int(i) for i in last[:-2]]\n",
    "\n",
    "model = genome_handler.decode(last)"
   ]
  },
  {
   "cell_type": "code",
   "execution_count": 43,
   "metadata": {
    "collapsed": false
   },
   "outputs": [
    {
     "data": {
      "text/plain": [
       "[{'class_name': 'Conv2D',\n",
       "  'config': {'activation': 'linear',\n",
       "   'activity_regularizer': None,\n",
       "   'batch_input_shape': (None, 1, 28, 28),\n",
       "   'bias_constraint': None,\n",
       "   'bias_initializer': {'class_name': 'Zeros', 'config': {}},\n",
       "   'bias_regularizer': None,\n",
       "   'data_format': 'channels_last',\n",
       "   'dilation_rate': (1, 1),\n",
       "   'dtype': 'float32',\n",
       "   'filters': 256,\n",
       "   'kernel_constraint': None,\n",
       "   'kernel_initializer': {'class_name': 'VarianceScaling',\n",
       "    'config': {'distribution': 'uniform',\n",
       "     'mode': 'fan_avg',\n",
       "     'scale': 1.0,\n",
       "     'seed': None}},\n",
       "   'kernel_regularizer': None,\n",
       "   'kernel_size': (3, 3),\n",
       "   'name': 'conv2d_72',\n",
       "   'padding': 'same',\n",
       "   'strides': (1, 1),\n",
       "   'trainable': True,\n",
       "   'use_bias': True}},\n",
       " {'class_name': 'Activation',\n",
       "  'config': {'activation': 'relu',\n",
       "   'name': 'activation_71',\n",
       "   'trainable': True}},\n",
       " {'class_name': 'Dropout',\n",
       "  'config': {'name': 'dropout_71', 'rate': 0.35, 'trainable': True}},\n",
       " {'class_name': 'MaxPooling2D',\n",
       "  'config': {'data_format': 'channels_last',\n",
       "   'name': 'max_pooling2d_34',\n",
       "   'padding': 'same',\n",
       "   'pool_size': (2, 2),\n",
       "   'strides': (2, 2),\n",
       "   'trainable': True}},\n",
       " {'class_name': 'Conv2D',\n",
       "  'config': {'activation': 'linear',\n",
       "   'activity_regularizer': None,\n",
       "   'bias_constraint': None,\n",
       "   'bias_initializer': {'class_name': 'Zeros', 'config': {}},\n",
       "   'bias_regularizer': None,\n",
       "   'data_format': 'channels_last',\n",
       "   'dilation_rate': (1, 1),\n",
       "   'filters': 64,\n",
       "   'kernel_constraint': None,\n",
       "   'kernel_initializer': {'class_name': 'VarianceScaling',\n",
       "    'config': {'distribution': 'uniform',\n",
       "     'mode': 'fan_avg',\n",
       "     'scale': 1.0,\n",
       "     'seed': None}},\n",
       "   'kernel_regularizer': None,\n",
       "   'kernel_size': (3, 3),\n",
       "   'name': 'conv2d_73',\n",
       "   'padding': 'same',\n",
       "   'strides': (1, 1),\n",
       "   'trainable': True,\n",
       "   'use_bias': True}},\n",
       " {'class_name': 'BatchNormalization',\n",
       "  'config': {'axis': -1,\n",
       "   'beta_constraint': None,\n",
       "   'beta_initializer': {'class_name': 'Zeros', 'config': {}},\n",
       "   'beta_regularizer': None,\n",
       "   'center': True,\n",
       "   'epsilon': 0.001,\n",
       "   'gamma_constraint': None,\n",
       "   'gamma_initializer': {'class_name': 'Ones', 'config': {}},\n",
       "   'gamma_regularizer': None,\n",
       "   'momentum': 0.99,\n",
       "   'moving_mean_initializer': {'class_name': 'Zeros', 'config': {}},\n",
       "   'moving_variance_initializer': {'class_name': 'Ones', 'config': {}},\n",
       "   'name': 'batch_normalization_48',\n",
       "   'scale': True,\n",
       "   'trainable': True}},\n",
       " {'class_name': 'Activation',\n",
       "  'config': {'activation': 'sigmoid',\n",
       "   'name': 'activation_72',\n",
       "   'trainable': True}},\n",
       " {'class_name': 'Dropout',\n",
       "  'config': {'name': 'dropout_72', 'rate': 0.25, 'trainable': True}},\n",
       " {'class_name': 'MaxPooling2D',\n",
       "  'config': {'data_format': 'channels_last',\n",
       "   'name': 'max_pooling2d_35',\n",
       "   'padding': 'same',\n",
       "   'pool_size': (2, 2),\n",
       "   'strides': (2, 2),\n",
       "   'trainable': True}},\n",
       " {'class_name': 'Conv2D',\n",
       "  'config': {'activation': 'linear',\n",
       "   'activity_regularizer': None,\n",
       "   'bias_constraint': None,\n",
       "   'bias_initializer': {'class_name': 'Zeros', 'config': {}},\n",
       "   'bias_regularizer': None,\n",
       "   'data_format': 'channels_last',\n",
       "   'dilation_rate': (1, 1),\n",
       "   'filters': 64,\n",
       "   'kernel_constraint': None,\n",
       "   'kernel_initializer': {'class_name': 'VarianceScaling',\n",
       "    'config': {'distribution': 'uniform',\n",
       "     'mode': 'fan_avg',\n",
       "     'scale': 1.0,\n",
       "     'seed': None}},\n",
       "   'kernel_regularizer': None,\n",
       "   'kernel_size': (3, 3),\n",
       "   'name': 'conv2d_74',\n",
       "   'padding': 'same',\n",
       "   'strides': (1, 1),\n",
       "   'trainable': True,\n",
       "   'use_bias': True}},\n",
       " {'class_name': 'BatchNormalization',\n",
       "  'config': {'axis': -1,\n",
       "   'beta_constraint': None,\n",
       "   'beta_initializer': {'class_name': 'Zeros', 'config': {}},\n",
       "   'beta_regularizer': None,\n",
       "   'center': True,\n",
       "   'epsilon': 0.001,\n",
       "   'gamma_constraint': None,\n",
       "   'gamma_initializer': {'class_name': 'Ones', 'config': {}},\n",
       "   'gamma_regularizer': None,\n",
       "   'momentum': 0.99,\n",
       "   'moving_mean_initializer': {'class_name': 'Zeros', 'config': {}},\n",
       "   'moving_variance_initializer': {'class_name': 'Ones', 'config': {}},\n",
       "   'name': 'batch_normalization_49',\n",
       "   'scale': True,\n",
       "   'trainable': True}},\n",
       " {'class_name': 'Activation',\n",
       "  'config': {'activation': 'sigmoid',\n",
       "   'name': 'activation_73',\n",
       "   'trainable': True}},\n",
       " {'class_name': 'Dropout',\n",
       "  'config': {'name': 'dropout_73', 'rate': 0.5, 'trainable': True}},\n",
       " {'class_name': 'Flatten',\n",
       "  'config': {'name': 'flatten_24', 'trainable': True}},\n",
       " {'class_name': 'Dense',\n",
       "  'config': {'activation': 'softmax',\n",
       "   'activity_regularizer': None,\n",
       "   'bias_constraint': None,\n",
       "   'bias_initializer': {'class_name': 'Zeros', 'config': {}},\n",
       "   'bias_regularizer': None,\n",
       "   'kernel_constraint': None,\n",
       "   'kernel_initializer': {'class_name': 'VarianceScaling',\n",
       "    'config': {'distribution': 'uniform',\n",
       "     'mode': 'fan_avg',\n",
       "     'scale': 1.0,\n",
       "     'seed': None}},\n",
       "   'kernel_regularizer': None,\n",
       "   'name': 'dense_24',\n",
       "   'trainable': True,\n",
       "   'units': 10,\n",
       "   'use_bias': True}}]"
      ]
     },
     "execution_count": 43,
     "metadata": {},
     "output_type": "execute_result"
    }
   ],
   "source": [
    "model.get_config()"
   ]
  },
  {
   "cell_type": "code",
   "execution_count": 44,
   "metadata": {
    "collapsed": false
   },
   "outputs": [
    {
     "name": "stdout",
     "output_type": "stream",
     "text": [
      "_________________________________________________________________\n",
      "Layer (type)                 Output Shape              Param #   \n",
      "=================================================================\n",
      "conv2d_72 (Conv2D)           (None, 1, 28, 256)        64768     \n",
      "_________________________________________________________________\n",
      "activation_71 (Activation)   (None, 1, 28, 256)        0         \n",
      "_________________________________________________________________\n",
      "dropout_71 (Dropout)         (None, 1, 28, 256)        0         \n",
      "_________________________________________________________________\n",
      "max_pooling2d_34 (MaxPooling (None, 1, 14, 256)        0         \n",
      "_________________________________________________________________\n",
      "conv2d_73 (Conv2D)           (None, 1, 14, 64)         147520    \n",
      "_________________________________________________________________\n",
      "batch_normalization_48 (Batc (None, 1, 14, 64)         256       \n",
      "_________________________________________________________________\n",
      "activation_72 (Activation)   (None, 1, 14, 64)         0         \n",
      "_________________________________________________________________\n",
      "dropout_72 (Dropout)         (None, 1, 14, 64)         0         \n",
      "_________________________________________________________________\n",
      "max_pooling2d_35 (MaxPooling (None, 1, 7, 64)          0         \n",
      "_________________________________________________________________\n",
      "conv2d_74 (Conv2D)           (None, 1, 7, 64)          36928     \n",
      "_________________________________________________________________\n",
      "batch_normalization_49 (Batc (None, 1, 7, 64)          256       \n",
      "_________________________________________________________________\n",
      "activation_73 (Activation)   (None, 1, 7, 64)          0         \n",
      "_________________________________________________________________\n",
      "dropout_73 (Dropout)         (None, 1, 7, 64)          0         \n",
      "_________________________________________________________________\n",
      "flatten_24 (Flatten)         (None, 448)               0         \n",
      "_________________________________________________________________\n",
      "dense_24 (Dense)             (None, 10)                4490      \n",
      "=================================================================\n",
      "Total params: 254,218\n",
      "Trainable params: 253,962\n",
      "Non-trainable params: 256\n",
      "_________________________________________________________________\n"
     ]
    }
   ],
   "source": [
    "genome"
   ]
  },
  {
   "cell_type": "code",
   "execution_count": null,
   "metadata": {
    "collapsed": true
   },
   "outputs": [],
   "source": []
  }
 ],
 "metadata": {
  "anaconda-cloud": {},
  "kernelspec": {
   "display_name": "Python [default]",
   "language": "python",
   "name": "python3"
  },
  "language_info": {
   "codemirror_mode": {
    "name": "ipython",
    "version": 3
   },
   "file_extension": ".py",
   "mimetype": "text/x-python",
   "name": "python",
   "nbconvert_exporter": "python",
   "pygments_lexer": "ipython3",
   "version": "3.5.2"
  }
 },
 "nbformat": 4,
 "nbformat_minor": 1
}
